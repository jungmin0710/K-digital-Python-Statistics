{
  "nbformat": 4,
  "nbformat_minor": 0,
  "metadata": {
    "colab": {
      "name": "Hypothesis_Test.ipynb",
      "provenance": [],
      "authorship_tag": "ABX9TyMpnwleqvqrbV1xpk9KUE1l",
      "include_colab_link": true
    },
    "kernelspec": {
      "name": "python3",
      "display_name": "Python 3"
    }
  },
  "cells": [
    {
      "cell_type": "markdown",
      "metadata": {
        "id": "view-in-github",
        "colab_type": "text"
      },
      "source": [
        "<a href=\"https://colab.research.google.com/github/jungmin0710/K-digital-Python-Statistics/blob/main/Hypothesis_Test.ipynb\" target=\"_parent\"><img src=\"https://colab.research.google.com/assets/colab-badge.svg\" alt=\"Open In Colab\"/></a>"
      ]
    },
    {
      "cell_type": "markdown",
      "metadata": {
        "id": "SMqld0KtnbpC"
      },
      "source": [
        "# Hypothesis_Test"
      ]
    },
    {
      "cell_type": "code",
      "metadata": {
        "id": "tk4WCJ7AnZeE"
      },
      "source": [
        "import warnings\r\n",
        "warnings.filterwarnings('ignore')"
      ],
      "execution_count": 1,
      "outputs": []
    },
    {
      "cell_type": "markdown",
      "metadata": {
        "id": "2E4WZPmDngdy"
      },
      "source": [
        "## 1. t-Test\r\n",
        "* 일반적으로 모집단의 모평균이나 모분산은 알 수 없음\r\n",
        "* 표본표준편차로 표본집단을 표준화를 하면, 표준정규분포가 아닌 t-분포를 따름\r\n",
        "* 표본표준편차로 변환한 t-분포를 사용하기 때문에 t-Test라고 함\r\n",
        "### 1. 단일집단 t-Test\r\n",
        "#### 1. Hypothesis\r\n",
        "* 귀무가설 : 스낵의 평균무게는 50이다\r\n",
        "* 대립가설 : 스낵의 평균무게는 50이 아니다"
      ]
    },
    {
      "cell_type": "markdown",
      "metadata": {
        "id": "wjTpVNunn7S3"
      },
      "source": [
        "#### 2. 단일표본"
      ]
    },
    {
      "cell_type": "code",
      "metadata": {
        "colab": {
          "base_uri": "https://localhost:8080/"
        },
        "id": "Kny98cTwnfXM",
        "outputId": "301df8d4-5625-4a31-929d-117b66ceaa2e"
      },
      "source": [
        "import pandas as pd\r\n",
        "\r\n",
        "url = 'https://raw.githubusercontent.com/rusita-ai/pyData/master/foodWeight.csv'\r\n",
        "DF = pd.read_csv(url)\r\n",
        "\r\n",
        "DF.info()"
      ],
      "execution_count": 3,
      "outputs": [
        {
          "output_type": "stream",
          "text": [
            "<class 'pandas.core.frame.DataFrame'>\n",
            "RangeIndex: 20 entries, 0 to 19\n",
            "Data columns (total 1 columns):\n",
            " #   Column  Non-Null Count  Dtype  \n",
            "---  ------  --------------  -----  \n",
            " 0   weight  20 non-null     float64\n",
            "dtypes: float64(1)\n",
            "memory usage: 288.0 bytes\n"
          ],
          "name": "stdout"
        }
      ]
    },
    {
      "cell_type": "code",
      "metadata": {
        "colab": {
          "base_uri": "https://localhost:8080/",
          "height": 194
        },
        "id": "GVgzDiTnoJC6",
        "outputId": "62f2716a-3a17-4565-ea5a-7099e9585ff4"
      },
      "source": [
        "DF.head()"
      ],
      "execution_count": 4,
      "outputs": [
        {
          "output_type": "execute_result",
          "data": {
            "text/html": [
              "<div>\n",
              "<style scoped>\n",
              "    .dataframe tbody tr th:only-of-type {\n",
              "        vertical-align: middle;\n",
              "    }\n",
              "\n",
              "    .dataframe tbody tr th {\n",
              "        vertical-align: top;\n",
              "    }\n",
              "\n",
              "    .dataframe thead th {\n",
              "        text-align: right;\n",
              "    }\n",
              "</style>\n",
              "<table border=\"1\" class=\"dataframe\">\n",
              "  <thead>\n",
              "    <tr style=\"text-align: right;\">\n",
              "      <th></th>\n",
              "      <th>weight</th>\n",
              "    </tr>\n",
              "  </thead>\n",
              "  <tbody>\n",
              "    <tr>\n",
              "      <th>0</th>\n",
              "      <td>58.529820</td>\n",
              "    </tr>\n",
              "    <tr>\n",
              "      <th>1</th>\n",
              "      <td>52.353039</td>\n",
              "    </tr>\n",
              "    <tr>\n",
              "      <th>2</th>\n",
              "      <td>74.446169</td>\n",
              "    </tr>\n",
              "    <tr>\n",
              "      <th>3</th>\n",
              "      <td>52.983263</td>\n",
              "    </tr>\n",
              "    <tr>\n",
              "      <th>4</th>\n",
              "      <td>55.876879</td>\n",
              "    </tr>\n",
              "  </tbody>\n",
              "</table>\n",
              "</div>"
            ],
            "text/plain": [
              "      weight\n",
              "0  58.529820\n",
              "1  52.353039\n",
              "2  74.446169\n",
              "3  52.983263\n",
              "4  55.876879"
            ]
          },
          "metadata": {
            "tags": []
          },
          "execution_count": 4
        }
      ]
    },
    {
      "cell_type": "markdown",
      "metadata": {
        "id": "gqy5AJyloRTT"
      },
      "source": [
        "#### 3. t-Test\r\n",
        "* 단이표본 t-Test\r\n",
        "* p값이 0.05보다 작기 때문에, '스낵의 평균무게는 50이다'는 귀무가설을 '기각'\r\n",
        "  * 집단의 모평균의 차이는 통계적으로 유의미함"
      ]
    },
    {
      "cell_type": "code",
      "metadata": {
        "colab": {
          "base_uri": "https://localhost:8080/"
        },
        "id": "AGgILW-qoP3a",
        "outputId": "b4294842-519c-467c-862a-0006f20d6de5"
      },
      "source": [
        "import scipy.stats\r\n",
        "scipy.stats.ttest_1samp(DF, 50)"
      ],
      "execution_count": 7,
      "outputs": [
        {
          "output_type": "execute_result",
          "data": {
            "text/plain": [
              "Ttest_1sampResult(statistic=array([2.75033968]), pvalue=array([0.01272559]))"
            ]
          },
          "metadata": {
            "tags": []
          },
          "execution_count": 7
        }
      ]
    },
    {
      "cell_type": "markdown",
      "metadata": {
        "id": "asKQz30qop8w"
      },
      "source": [
        "### 2. 두 집단 독립표본 t-Test\r\n",
        "* 두 표본집단을 구성(수집)할 때 독립인 경우\r\n",
        "  *독립표본 : 무작위로 남자 100명과 여자 100명을 뽑아 두 집단을 비교\r\n",
        "  * 대응표본 : 부부 100쌍을 뽑아 남편 100명과 아내 100명의 두 집단을 비교\r\n",
        "* 논리\r\n",
        "  * 모평균과 표본평균은 다를 수 있지만 차이가 크지 않을 것\r\n",
        "  * 두 표본집단의 평균의 차이는 0이 아니지만, 큰 차이는 보이지 않ㅇ므\r\n",
        "  * 만약, 두 표본평균의 차이가 크다면, 귀무가설이 맞지 않을 수 있음\r\n",
        "  * 따라서. 두 표본평균의 차이나는 정도에 대한 가능성(확률)을 계산하여 판단\r\n",
        "\r\n",
        "#### 1. Hypothesis\r\n",
        "* 귀무가설 : 두 집단의 모평균이 동일하다.\r\n",
        "* 대립가설 : 두 집단의 모평균은 동일하지 않다.\r\n",
        "#### 2. 독립표본\r\n",
        "* Male과 Female 표본집단이 무작위로 추출\r\n"
      ]
    },
    {
      "cell_type": "code",
      "metadata": {
        "id": "yYvunRXxoebz"
      },
      "source": [
        "Male = [117,108,105,89,101,93,96,108,108,94,93,112,92,91,100,96,120,86,96,95]\r\n",
        "Female = [121,101,102,114,103,105,101,131,96,109,109,113,115,94,108,96,110,112,120,100]"
      ],
      "execution_count": 15,
      "outputs": []
    },
    {
      "cell_type": "markdown",
      "metadata": {
        "id": "YOcEN0AQpf9o"
      },
      "source": [
        "#### 3. Welch's t-Test\r\n",
        "* 두 표본분산의 등분산성 검사 없이 진행\r\n",
        "* 독립표본 t-Test에 적용(Independent)\r\n",
        "  * 'equal_var = False'\r\n",
        "* p 값이 0.05보다 작기 때문에, ' 두 집단의 모평균이 동일하다'는 귀무가설을 '기각'\r\n",
        "  * 두 집단의 모평균의 차이는 통계적으로 유의미함"
      ]
    },
    {
      "cell_type": "code",
      "metadata": {
        "colab": {
          "base_uri": "https://localhost:8080/"
        },
        "id": "sAWWu6vQpzuQ",
        "outputId": "6b5492dd-0b08-4a9e-965f-f1f0330cad59"
      },
      "source": [
        "import scipy.stats\r\n",
        "\r\n",
        "scipy.stats.ttest_ind(Male,Female,equal_var = False)"
      ],
      "execution_count": 16,
      "outputs": [
        {
          "output_type": "execute_result",
          "data": {
            "text/plain": [
              "Ttest_indResult(statistic=-2.670573872669349, pvalue=0.01108318824471652)"
            ]
          },
          "metadata": {
            "tags": []
          },
          "execution_count": 16
        }
      ]
    },
    {
      "cell_type": "markdown",
      "metadata": {
        "id": "P3kXwZviqBAs"
      },
      "source": [
        "#### 4. Effect Size\r\n",
        "* 두 집단의 평균 차이를 일정한 기준으로 표현\r\n",
        "* 절대적이지 않으며, 0.2정도면 작은 편, 0.5정도면 중간, 0.8이면 큰 편"
      ]
    },
    {
      "cell_type": "code",
      "metadata": {
        "id": "3ENhTQabp6c_"
      },
      "source": [
        "DT = scipy.stats.ttest_ind(Male,Female,equal_var = False)"
      ],
      "execution_count": 17,
      "outputs": []
    },
    {
      "cell_type": "markdown",
      "metadata": {
        "id": "sLVy75x6qPEp"
      },
      "source": [
        "* Cohen's d"
      ]
    },
    {
      "cell_type": "code",
      "metadata": {
        "colab": {
          "base_uri": "https://localhost:8080/"
        },
        "id": "tZveZHQKqMTw",
        "outputId": "55323d41-92bd-46fd-b1c5-c2a9e8777336"
      },
      "source": [
        "import numpy as np\r\n",
        "\r\n",
        "t = DT.statistic\r\n",
        "\r\n",
        "df = len(Male) + len(Female) -2\r\n",
        "\r\n",
        "abs(t) / np.sqrt(df)"
      ],
      "execution_count": 18,
      "outputs": [
        {
          "output_type": "execute_result",
          "data": {
            "text/plain": [
              "0.4332242888591059"
            ]
          },
          "metadata": {
            "tags": []
          },
          "execution_count": 18
        }
      ]
    },
    {
      "cell_type": "markdown",
      "metadata": {
        "id": "hJonSHWvqrPn"
      },
      "source": [
        "* Pearson's r"
      ]
    },
    {
      "cell_type": "code",
      "metadata": {
        "colab": {
          "base_uri": "https://localhost:8080/"
        },
        "id": "HoZPDT1sqZUt",
        "outputId": "bdf77b49-d6f8-43e3-f9b2-929c8758f715"
      },
      "source": [
        "t2 = t ** 2\r\n",
        "\r\n",
        "np.sqrt(t2/(t2+df))"
      ],
      "execution_count": 19,
      "outputs": [
        {
          "output_type": "execute_result",
          "data": {
            "text/plain": [
              "0.39752319599996255"
            ]
          },
          "metadata": {
            "tags": []
          },
          "execution_count": 19
        }
      ]
    },
    {
      "cell_type": "markdown",
      "metadata": {
        "id": "7Hnktctuqxnm"
      },
      "source": [
        "#### 5. 검증결과 해석\r\n",
        "* 두 집단 Male과 Female에 대하여 독립표본 t검증을 실시한 결과\r\n",
        "  * 집단 Male의 평균값(100)은 집단 Female의 평균값(108)보다 통계적으로 유의미하게 낮았으며(p < 0.05)\r\n",
        "  * 효과 크기는 중간수준이었다(Cohen's d = 0.43, Pearson's r = 0.39)\r\n",
        "\r\n",
        "### 3. 두 집단 대응표본 t-Test\r\n",
        "* 두 집단의 자료를 쌍으로 묶을 수 있는 경우\r\n",
        "  * 예) 남편과 아내, Before vs After\r\n",
        "* 쌍을 이루고 있는 두 값의 차이를 구함\r\n",
        "\r\n",
        "#### 1. Jypothesis\r\n",
        "* 귀무가설 : 두 집단의 모평균이 동일하다.\r\n",
        "* 대립가설 : 두 집단의 모평균은 동일하지 않다.\r\n",
        "\r\n",
        "#### 2. 대응표본\r\n",
        "* 두 표본집합 Before와 After가 순서대로 짝지어있음"
      ]
    },
    {
      "cell_type": "code",
      "metadata": {
        "id": "2rec4mdnqwQU"
      },
      "source": [
        "Before = [117,108,105,89,101,93,96,108,108,94,93,112,92,91,100,96,120,86,96,95]\r\n",
        "After = [121,101,102,114,103,105,101,131,96,109,109,113,115,94,108,96,110,112,120,100]"
      ],
      "execution_count": 20,
      "outputs": []
    },
    {
      "cell_type": "markdown",
      "metadata": {
        "id": "1IGFQK6UritA"
      },
      "source": [
        "#### 3. t-Test\r\n",
        "* 대응표본 t-Test에 적용(Related)\r\n",
        "* p값이 0.05보다 작기 때문에, '두 집단의 모평균이 동일하다'는 귀무가설을 '기각'\r\n",
        "  * 두 집단의 모평균의 차이는 통계적으로 유의미함"
      ]
    },
    {
      "cell_type": "code",
      "metadata": {
        "colab": {
          "base_uri": "https://localhost:8080/"
        },
        "id": "9gLkdbrSrg6j",
        "outputId": "b3ae1b67-2957-4fae-e64e-afbc338ba99c"
      },
      "source": [
        "import scipy.stats\r\n",
        "\r\n",
        "scipy.stats.ttest_rel(Before, After)"
      ],
      "execution_count": 21,
      "outputs": [
        {
          "output_type": "execute_result",
          "data": {
            "text/plain": [
              "Ttest_relResult(statistic=-2.9868874599588247, pvalue=0.007578486289181322)"
            ]
          },
          "metadata": {
            "tags": []
          },
          "execution_count": 21
        }
      ]
    },
    {
      "cell_type": "markdown",
      "metadata": {
        "id": "6nARHdPkrzng"
      },
      "source": [
        "#### 4. Effect Size\r\n",
        "* 두 집단의 평균 차이를 일정한 기준으로 표현\r\n",
        "* 절대적이지 않으며, 0.2 정도면 작은 편, 0.5정도면 중간, 0.8이면 큰 편"
      ]
    },
    {
      "cell_type": "code",
      "metadata": {
        "id": "S54gIKDZryh2"
      },
      "source": [
        "DT = scipy.stats.ttest_rel(Before, After)"
      ],
      "execution_count": 22,
      "outputs": []
    },
    {
      "cell_type": "markdown",
      "metadata": {
        "id": "FtvRJN7XsBHr"
      },
      "source": [
        "* Cohen's d"
      ]
    },
    {
      "cell_type": "code",
      "metadata": {
        "colab": {
          "base_uri": "https://localhost:8080/"
        },
        "id": "jh6_KG03r-7u",
        "outputId": "7ddf1569-e678-47a4-a197-bdb98a5589b5"
      },
      "source": [
        "t = DT.statistic\r\n",
        "\r\n",
        "df = len(Before) + len(After) - 2\r\n",
        "\r\n",
        "abs(t) / np.sqrt(df)"
      ],
      "execution_count": 23,
      "outputs": [
        {
          "output_type": "execute_result",
          "data": {
            "text/plain": [
              "0.4845371285121742"
            ]
          },
          "metadata": {
            "tags": []
          },
          "execution_count": 23
        }
      ]
    },
    {
      "cell_type": "markdown",
      "metadata": {
        "id": "fFCTAsTssKel"
      },
      "source": [
        "* Pearson's r"
      ]
    },
    {
      "cell_type": "code",
      "metadata": {
        "colab": {
          "base_uri": "https://localhost:8080/"
        },
        "id": "zpZXOfuVsJQe",
        "outputId": "7e946f1c-f420-46a4-8e14-022e0ec99d89"
      },
      "source": [
        "t2 = t ** 2\r\n",
        "\r\n",
        "np.sqrt(t2 / (t2 + df))"
      ],
      "execution_count": 24,
      "outputs": [
        {
          "output_type": "execute_result",
          "data": {
            "text/plain": [
              "0.43604662677848566"
            ]
          },
          "metadata": {
            "tags": []
          },
          "execution_count": 24
        }
      ]
    },
    {
      "cell_type": "markdown",
      "metadata": {
        "id": "dalCkj9esQYw"
      },
      "source": [
        "#### 5. 검증결과 해석\r\n",
        "* 두 집단 Before와 After에 대하여 대응표본 t검증을 실시한 결과,\r\n",
        "* 집단 Before의 평균값(100)은 집단 After의 평균값(108)보다 통계적으로 유의미하게 낮았으며(p < 0.05)\r\n",
        "* 효과 크기는 중간수준이었다(Cohen's d = 0.48, Pearson's r = 0.43)"
      ]
    },
    {
      "cell_type": "markdown",
      "metadata": {
        "id": "bWddGKvBskRo"
      },
      "source": [
        "## 2. ANOVA Test\r\n",
        "* ANalysis Of VAriance(ANOVA)\r\n",
        "* 세 개 이상의 집단에 대한 평균을 비교할 때 사용\r\n",
        "  * 기존 t-Test 사용 시 과잉검증(Overtesting) 문제 발생 \r\n",
        "  * t-Test로 두 집단씩 짝지어 분석할 경우 분석횟수가 기하급수적으로 증가 \r\n",
        "  * 통계적 검증절차를 남용하여, 확률적 의사결정에서 발생 가능한 오류의 확률이 필요 이 상으로 증가하는 문제\r\n",
        "* 오류의 확률을 통제한 상태에서 전체적인 결과를 확인 가능 \r\n",
        "* 집단을 구성하는 변수(요인/Factor)가 두 개 이상인 경우, 상호작용 파악에 용이\r\n",
        "* 용어\r\n",
        "  * 요인(Factor) : 집단을 구별하는 독립변수 \r\n",
        "  * 수준(Level) : 요인의 수준(예: '성별'요인의 수준은 '남자'와 '여자') \r\n",
        "  * 상호작용 : 한 요인의 수준에 따른 종속변수의 차이가 또 다른 요인의 수준에 따라 달라 질 때\r\n",
        "  * n-way ANOVA \r\n",
        "    * One-way ANOVA : 요인이 1개인 분산분석 \r\n",
        "    * Two-way ANOVA : 요인이 2개인 분산분석\r\n",
        "\r\n",
        "### 1. One-way ANOVA\r\n",
        "#### 1. Hypothesis\r\n",
        "* 귀무가설 : 모든 집단의 평균은 동일하다\r\n",
        "* 대립가설 : 적어도 한 집단의 평균은 다른 집단과 다르다\r\n",
        "#### 2. Load Data"
      ]
    },
    {
      "cell_type": "code",
      "metadata": {
        "colab": {
          "base_uri": "https://localhost:8080/"
        },
        "id": "MHeD3NbSsPQ2",
        "outputId": "bf7fbc00-5b11-46d1-8a71-6c85c139eb24"
      },
      "source": [
        "import pandas as pd\r\n",
        "\r\n",
        "url = 'https://raw.githubusercontent.com/rusita-ai/pyData/master/PlantGrowth.csv'\r\n",
        "DF = pd.read_csv(url)\r\n",
        "\r\n",
        "\r\n",
        "DF.info()"
      ],
      "execution_count": 26,
      "outputs": [
        {
          "output_type": "stream",
          "text": [
            "<class 'pandas.core.frame.DataFrame'>\n",
            "RangeIndex: 30 entries, 0 to 29\n",
            "Data columns (total 2 columns):\n",
            " #   Column  Non-Null Count  Dtype  \n",
            "---  ------  --------------  -----  \n",
            " 0   weight  30 non-null     float64\n",
            " 1   group   30 non-null     object \n",
            "dtypes: float64(1), object(1)\n",
            "memory usage: 608.0+ bytes\n"
          ],
          "name": "stdout"
        }
      ]
    },
    {
      "cell_type": "code",
      "metadata": {
        "colab": {
          "base_uri": "https://localhost:8080/",
          "height": 194
        },
        "id": "7L5qPBoPtYPd",
        "outputId": "f757f3d3-69ed-4e41-b42c-241774b53e4f"
      },
      "source": [
        "DF.head()"
      ],
      "execution_count": 27,
      "outputs": [
        {
          "output_type": "execute_result",
          "data": {
            "text/html": [
              "<div>\n",
              "<style scoped>\n",
              "    .dataframe tbody tr th:only-of-type {\n",
              "        vertical-align: middle;\n",
              "    }\n",
              "\n",
              "    .dataframe tbody tr th {\n",
              "        vertical-align: top;\n",
              "    }\n",
              "\n",
              "    .dataframe thead th {\n",
              "        text-align: right;\n",
              "    }\n",
              "</style>\n",
              "<table border=\"1\" class=\"dataframe\">\n",
              "  <thead>\n",
              "    <tr style=\"text-align: right;\">\n",
              "      <th></th>\n",
              "      <th>weight</th>\n",
              "      <th>group</th>\n",
              "    </tr>\n",
              "  </thead>\n",
              "  <tbody>\n",
              "    <tr>\n",
              "      <th>0</th>\n",
              "      <td>4.17</td>\n",
              "      <td>ctrl</td>\n",
              "    </tr>\n",
              "    <tr>\n",
              "      <th>1</th>\n",
              "      <td>5.58</td>\n",
              "      <td>ctrl</td>\n",
              "    </tr>\n",
              "    <tr>\n",
              "      <th>2</th>\n",
              "      <td>5.18</td>\n",
              "      <td>ctrl</td>\n",
              "    </tr>\n",
              "    <tr>\n",
              "      <th>3</th>\n",
              "      <td>6.11</td>\n",
              "      <td>ctrl</td>\n",
              "    </tr>\n",
              "    <tr>\n",
              "      <th>4</th>\n",
              "      <td>4.50</td>\n",
              "      <td>ctrl</td>\n",
              "    </tr>\n",
              "  </tbody>\n",
              "</table>\n",
              "</div>"
            ],
            "text/plain": [
              "   weight group\n",
              "0    4.17  ctrl\n",
              "1    5.58  ctrl\n",
              "2    5.18  ctrl\n",
              "3    6.11  ctrl\n",
              "4    4.50  ctrl"
            ]
          },
          "metadata": {
            "tags": []
          },
          "execution_count": 27
        }
      ]
    },
    {
      "cell_type": "markdown",
      "metadata": {
        "id": "id_1CS7OtfOs"
      },
      "source": [
        "* 3개의 집단 확인 \r\n",
        "  * 'ctrl', 'trt1', 'trt2'"
      ]
    },
    {
      "cell_type": "code",
      "metadata": {
        "colab": {
          "base_uri": "https://localhost:8080/"
        },
        "id": "i9QjsvIitdMz",
        "outputId": "d80118ec-06c4-4e6a-8fd0-d84f085e09b6"
      },
      "source": [
        "DF['group'].unique()"
      ],
      "execution_count": 28,
      "outputs": [
        {
          "output_type": "execute_result",
          "data": {
            "text/plain": [
              "array(['ctrl', 'trt1', 'trt2'], dtype=object)"
            ]
          },
          "metadata": {
            "tags": []
          },
          "execution_count": 28
        }
      ]
    },
    {
      "cell_type": "markdown",
      "metadata": {
        "id": "4U83IhbStkCC"
      },
      "source": [
        "#### 3. 일원분산분석\r\n",
        "* Pr(>F)가 p-value \r\n",
        "* p-value 값이 0.05보다 작으면, 통계적으로 유의미한 차이가 존재 \r\n",
        "* 검증결과 0.0159로 0.05보다 작아서, 귀무가설 '기각' \r\n",
        "* 구체적으로 어떤 수준(집단)이 차이가 있는지 확인하려면 사후분석(post hoc test) 필요 \r\n",
        "* 유의미한 차이가 없는 경우, 사후분석 필요 없음"
      ]
    },
    {
      "cell_type": "code",
      "metadata": {
        "colab": {
          "base_uri": "https://localhost:8080/",
          "height": 106
        },
        "id": "ZJoS-mW1tibm",
        "outputId": "312aa1de-3a67-4e46-cb8b-84db88f93db9"
      },
      "source": [
        "from statsmodels.formula.api import ols \r\n",
        "from statsmodels.stats.anova import anova_lm\r\n",
        "\r\n",
        "model = ols('weight ~ C(group)', DF).fit() \r\n",
        "anova_lm(model)"
      ],
      "execution_count": 29,
      "outputs": [
        {
          "output_type": "execute_result",
          "data": {
            "text/html": [
              "<div>\n",
              "<style scoped>\n",
              "    .dataframe tbody tr th:only-of-type {\n",
              "        vertical-align: middle;\n",
              "    }\n",
              "\n",
              "    .dataframe tbody tr th {\n",
              "        vertical-align: top;\n",
              "    }\n",
              "\n",
              "    .dataframe thead th {\n",
              "        text-align: right;\n",
              "    }\n",
              "</style>\n",
              "<table border=\"1\" class=\"dataframe\">\n",
              "  <thead>\n",
              "    <tr style=\"text-align: right;\">\n",
              "      <th></th>\n",
              "      <th>df</th>\n",
              "      <th>sum_sq</th>\n",
              "      <th>mean_sq</th>\n",
              "      <th>F</th>\n",
              "      <th>PR(&gt;F)</th>\n",
              "    </tr>\n",
              "  </thead>\n",
              "  <tbody>\n",
              "    <tr>\n",
              "      <th>C(group)</th>\n",
              "      <td>2.0</td>\n",
              "      <td>3.76634</td>\n",
              "      <td>1.883170</td>\n",
              "      <td>4.846088</td>\n",
              "      <td>0.01591</td>\n",
              "    </tr>\n",
              "    <tr>\n",
              "      <th>Residual</th>\n",
              "      <td>27.0</td>\n",
              "      <td>10.49209</td>\n",
              "      <td>0.388596</td>\n",
              "      <td>NaN</td>\n",
              "      <td>NaN</td>\n",
              "    </tr>\n",
              "  </tbody>\n",
              "</table>\n",
              "</div>"
            ],
            "text/plain": [
              "            df    sum_sq   mean_sq         F   PR(>F)\n",
              "C(group)   2.0   3.76634  1.883170  4.846088  0.01591\n",
              "Residual  27.0  10.49209  0.388596       NaN      NaN"
            ]
          },
          "metadata": {
            "tags": []
          },
          "execution_count": 29
        }
      ]
    },
    {
      "cell_type": "markdown",
      "metadata": {
        "id": "Fs4eQZGFt4gX"
      },
      "source": [
        "#### 4. 일원분산분석 가정\r\n",
        "* 독립성 : 자료의 추출은 독립적으로 이루어졌음\r\n",
        "* 정규성 : 자료의 모집단 분포는 정규분포를 따름 \r\n",
        "* 등분산성 : 모든 집단의 모분산은 동일함\r\n",
        "\r\n",
        "#### 4-1. 독립성 \r\n",
        "* 자료 수집이 Random Sampling 되었다면 만족하는 것으로 봄 \r\n",
        "#### 4-2 정규성\r\n",
        "* 세 수준 모두 p-value값이 0.05보다 큼 \r\n",
        "* 모집단의 분포가 정규분포를 따른다는 귀무가설을 '채택'\r\n",
        "\r\n",
        "* 'ctrl' 수준의 정규성"
      ]
    },
    {
      "cell_type": "code",
      "metadata": {
        "colab": {
          "base_uri": "https://localhost:8080/"
        },
        "id": "K5xjbsJ_t2Ub",
        "outputId": "cd0c0694-2c37-43f5-9a50-a1e18e8710d8"
      },
      "source": [
        "import scipy.stats\r\n",
        "scipy.stats.shapiro(DF.weight[DF.group == 'ctrl'])"
      ],
      "execution_count": 30,
      "outputs": [
        {
          "output_type": "execute_result",
          "data": {
            "text/plain": [
              "(0.9566815495491028, 0.7474744915962219)"
            ]
          },
          "metadata": {
            "tags": []
          },
          "execution_count": 30
        }
      ]
    },
    {
      "cell_type": "markdown",
      "metadata": {
        "id": "vFOpo3W6uNLn"
      },
      "source": [
        "* 'trt1' 수준의 정규성"
      ]
    },
    {
      "cell_type": "code",
      "metadata": {
        "colab": {
          "base_uri": "https://localhost:8080/"
        },
        "id": "cpvMiJZVuK6L",
        "outputId": "d3a6a7ff-bdfa-44cb-df6d-830b38ca8920"
      },
      "source": [
        "scipy.stats.shapiro(DF.weight[DF.group == 'trt1'])"
      ],
      "execution_count": 31,
      "outputs": [
        {
          "output_type": "execute_result",
          "data": {
            "text/plain": [
              "(0.9304108619689941, 0.451945960521698)"
            ]
          },
          "metadata": {
            "tags": []
          },
          "execution_count": 31
        }
      ]
    },
    {
      "cell_type": "markdown",
      "metadata": {
        "id": "aX5CSYPOuQbQ"
      },
      "source": [
        "* 'trt2' 수준의 정규성"
      ]
    },
    {
      "cell_type": "code",
      "metadata": {
        "colab": {
          "base_uri": "https://localhost:8080/"
        },
        "id": "6gfllePsuO-s",
        "outputId": "ad2a7eb3-a0c9-4523-958d-7df33ba79fe7"
      },
      "source": [
        "scipy.stats.shapiro(DF.weight[DF.group == 'trt2'])"
      ],
      "execution_count": 32,
      "outputs": [
        {
          "output_type": "execute_result",
          "data": {
            "text/plain": [
              "(0.9410051107406616, 0.5642509460449219)"
            ]
          },
          "metadata": {
            "tags": []
          },
          "execution_count": 32
        }
      ]
    },
    {
      "cell_type": "markdown",
      "metadata": {
        "id": "Eow7eZ13uTEO"
      },
      "source": [
        "#### 4-3 등분산성\r\n",
        "* 두 가지 테스트 모두 p-value값이 0.05보다 큼 \r\n",
        "* 모집단의 모분산은 동일하다는 귀무가설을 '채택'\r\n",
        "* Levene(레빈 검증)"
      ]
    },
    {
      "cell_type": "code",
      "metadata": {
        "colab": {
          "base_uri": "https://localhost:8080/"
        },
        "id": "6Zb-dx8auR98",
        "outputId": "32e5c29c-9251-4c5b-f141-2adf6461fe62"
      },
      "source": [
        "scipy.stats.levene(\r\n",
        "     DF.weight[DF.group == 'ctrl'],\r\n",
        "      DF.weight[DF.group == 'trt1'],\r\n",
        "       DF.weight[DF.group == 'trt2'] )"
      ],
      "execution_count": 33,
      "outputs": [
        {
          "output_type": "execute_result",
          "data": {
            "text/plain": [
              "LeveneResult(statistic=1.1191856948703909, pvalue=0.3412266241254737)"
            ]
          },
          "metadata": {
            "tags": []
          },
          "execution_count": 33
        }
      ]
    },
    {
      "cell_type": "markdown",
      "metadata": {
        "id": "GR_kIBbnug2y"
      },
      "source": [
        "* Bartlett(바틀렛 검증)"
      ]
    },
    {
      "cell_type": "code",
      "metadata": {
        "colab": {
          "base_uri": "https://localhost:8080/"
        },
        "id": "yHzzNn5fuefh",
        "outputId": "0170f397-488e-46a6-d8c8-7fd52202f149"
      },
      "source": [
        "scipy.stats.bartlett( \r\n",
        "    DF.weight[DF.group == 'ctrl'], \r\n",
        "    DF.weight[DF.group == 'trt1'], \r\n",
        "    DF.weight[DF.group == 'trt2'] )"
      ],
      "execution_count": 34,
      "outputs": [
        {
          "output_type": "execute_result",
          "data": {
            "text/plain": [
              "BartlettResult(statistic=2.8785737872360935, pvalue=0.23709677363455822)"
            ]
          },
          "metadata": {
            "tags": []
          },
          "execution_count": 34
        }
      ]
    },
    {
      "cell_type": "markdown",
      "metadata": {
        "id": "89-eH8bBuo2q"
      },
      "source": [
        "#### 5. 일원분산분석 사후분석\r\n",
        "* post hoc test \r\n",
        "  * 유의미한 검증결과 도출 시, 어떤 수준(들)에서 평균 차이가 나는지를 검증 \r\n",
        "  * 연구자의 사전 가설(아이디어)없이 ANOVA를 시행한 경우, 탐색적으로 평균 차이가 나 는 수준(집단)을 살펴보기 위해 시행 \r\n",
        "  * 조합 가능한 모든 쌍에 대해 비교하여, 과잉검증으로 인한 FWER 증가\r\n",
        "\r\n",
        "* FWER\r\n",
        "  * Family Wise Error Rate \r\n",
        "  * 여러 개의 가설 검정을 할 때 적어도 하나의 가설에서 1종 오류가 발생할 가능성 \r\n",
        "  * 가설검정을 많이 할 수록 FWER은 증가 \r\n",
        "  * 유의수준을 보정하여 FWER을 0.05로 고정 후 검증\r\n",
        "\r\n",
        "#### 5-1. 사후분석 준비"
      ]
    },
    {
      "cell_type": "code",
      "metadata": {
        "id": "TCh-O3n2ul6V"
      },
      "source": [
        "from statsmodels.sandbox.stats.multicomp import MultiComparison \r\n",
        "import scipy.stats \r\n",
        "\r\n",
        "MC = MultiComparison(DF['weight'], DF['group'])"
      ],
      "execution_count": 35,
      "outputs": []
    },
    {
      "cell_type": "markdown",
      "metadata": {
        "id": "G2FsCvTxu906"
      },
      "source": [
        "#### 5-2. Bonferroni Correction\r\n",
        "* 봉페로니 교정 \r\n",
        "  * 모든 집단을 짝지어 t-Test\r\n",
        "* 'trt1'과 'trt2' 수준 간의 평균차이만 유의미함"
      ]
    },
    {
      "cell_type": "code",
      "metadata": {
        "colab": {
          "base_uri": "https://localhost:8080/",
          "height": 151
        },
        "id": "mP2-DRb5u8tC",
        "outputId": "66642276-6b29-40e7-cf4a-2eef6a863c20"
      },
      "source": [
        "result = MC.allpairtest(scipy.stats.ttest_ind, method = 'bonf') \r\n",
        "\r\n",
        "result[0]"
      ],
      "execution_count": 36,
      "outputs": [
        {
          "output_type": "execute_result",
          "data": {
            "text/html": [
              "<table class=\"simpletable\">\n",
              "<caption>Test Multiple Comparison ttest_ind \n",
              "FWER=0.05 method=bonf\n",
              "alphacSidak=0.02, alphacBonf=0.017</caption>\n",
              "<tr>\n",
              "  <th>group1</th> <th>group2</th>  <th>stat</th>    <th>pval</th>  <th>pval_corr</th> <th>reject</th>\n",
              "</tr>\n",
              "<tr>\n",
              "   <td>ctrl</td>   <td>trt1</td>  <td>1.1913</td>   <td>0.249</td>  <td>0.7471</td>    <td>False</td>\n",
              "</tr>\n",
              "<tr>\n",
              "   <td>ctrl</td>   <td>trt2</td>  <td>-2.134</td>  <td>0.0469</td>  <td>0.1406</td>    <td>False</td>\n",
              "</tr>\n",
              "<tr>\n",
              "   <td>trt1</td>   <td>trt2</td>  <td>-3.0101</td> <td>0.0075</td>  <td>0.0226</td>    <td>True</td> \n",
              "</tr>\n",
              "</table>"
            ],
            "text/plain": [
              "<class 'statsmodels.iolib.table.SimpleTable'>"
            ]
          },
          "metadata": {
            "tags": []
          },
          "execution_count": 36
        }
      ]
    },
    {
      "cell_type": "markdown",
      "metadata": {
        "id": "D8b4PkaevJu2"
      },
      "source": [
        "#### 5-3. Tuckey's HSD \r\n",
        "\r\n",
        "* 투키의 HSD(Honestly Significant Difference)\r\n",
        "* 'trt1'과 'trt2' 수준간의 평균 차이만 유의미함"
      ]
    },
    {
      "cell_type": "code",
      "metadata": {
        "colab": {
          "base_uri": "https://localhost:8080/",
          "height": 134
        },
        "id": "uyPF-C29vFMJ",
        "outputId": "12622f17-e0f9-4e84-ceaa-e303ea8eeb77"
      },
      "source": [
        "from statsmodels.stats.multicomp import pairwise_tukeyhsd \r\n",
        "\r\n",
        "THSD = pairwise_tukeyhsd(DF['weight'], DF['group'], alpha = 0.05) \r\n",
        "\r\n",
        "THSD.summary()"
      ],
      "execution_count": 37,
      "outputs": [
        {
          "output_type": "execute_result",
          "data": {
            "text/html": [
              "<table class=\"simpletable\">\n",
              "<caption>Multiple Comparison of Means - Tukey HSD, FWER=0.05</caption>\n",
              "<tr>\n",
              "  <th>group1</th> <th>group2</th> <th>meandiff</th>  <th>p-adj</th>  <th>lower</th>   <th>upper</th> <th>reject</th>\n",
              "</tr>\n",
              "<tr>\n",
              "   <td>ctrl</td>   <td>trt1</td>   <td>-0.371</td>  <td>0.3921</td> <td>-1.0621</td> <td>0.3201</td>  <td>False</td>\n",
              "</tr>\n",
              "<tr>\n",
              "   <td>ctrl</td>   <td>trt2</td>    <td>0.494</td>   <td>0.198</td> <td>-0.1971</td> <td>1.1851</td>  <td>False</td>\n",
              "</tr>\n",
              "<tr>\n",
              "   <td>trt1</td>   <td>trt2</td>    <td>0.865</td>   <td>0.012</td> <td>0.1739</td>  <td>1.5561</td>  <td>True</td> \n",
              "</tr>\n",
              "</table>"
            ],
            "text/plain": [
              "<class 'statsmodels.iolib.table.SimpleTable'>"
            ]
          },
          "metadata": {
            "tags": []
          },
          "execution_count": 37
        }
      ]
    },
    {
      "cell_type": "markdown",
      "metadata": {
        "id": "6Gq4ozn_vmwD"
      },
      "source": [
        "#### 6. 일원분산분석 결과 해석\r\n",
        "* group에 따른 weight의 평균 차이는 유의미함(p < 0.05) \r\n",
        "  * 사후분석을 실시 결과, 'trt1' 수준과 'trt2' 수준에서 유의미한 평균 차이가 있었음(p < 0.05)\r\n",
        "### 2. Two-way ANOVA\r\n",
        "* Two-way ANOVA : 요인이 2개인 분산분석 \r\n",
        "* 요인 간 상호작용 파익이 주요 목적\r\n",
        "\r\n",
        "* 다원분산분석 가정 \r\n",
        "  * 독립성 \r\n",
        "  * 정규성 \r\n",
        "  * 등분산성\r\n",
        "\r\n",
        "* 주요 용어\r\n",
        "  * 주효과 : 다른 요인(집단구분 변수)과 상관없이, 한 요인의 수준(집단)에 따라 효과가 유 의미하게 달라질 때 '주효과가 있다'고 함 \r\n",
        "  * 상호작용효과 : 한 요인의 수준에 따른 효과차이가 또 다른 요인의 수준에 따라 달라질 때, '요인들 간 상호작용이 존재한다'고 함\r\n",
        "\r\n",
        "##### 1. Hypothesis\r\n",
        "* 귀무가설 : 모든 집단의 평균은 동일하다 \r\n",
        "* 대립가설 : 적어도 한 집단의 평균은 다른 집단과 다르다\r\n",
        "\r\n",
        "##### 2. Load Data"
      ]
    },
    {
      "cell_type": "code",
      "metadata": {
        "colab": {
          "base_uri": "https://localhost:8080/"
        },
        "id": "nODbV9c0ve3j",
        "outputId": "b503d138-173a-402f-cca5-976626455f87"
      },
      "source": [
        "import pandas as pd\r\n",
        "url = 'https://raw.githubusercontent.com/rusita-ai/pyData/master/poisons.csv' \r\n",
        "DF = pd.read_csv(url) \r\n",
        "\r\n",
        "DF.info()"
      ],
      "execution_count": 39,
      "outputs": [
        {
          "output_type": "stream",
          "text": [
            "<class 'pandas.core.frame.DataFrame'>\n",
            "RangeIndex: 48 entries, 0 to 47\n",
            "Data columns (total 4 columns):\n",
            " #   Column      Non-Null Count  Dtype  \n",
            "---  ------      --------------  -----  \n",
            " 0   Unnamed: 0  48 non-null     int64  \n",
            " 1   time        48 non-null     float64\n",
            " 2   poison      48 non-null     int64  \n",
            " 3   treat       48 non-null     object \n",
            "dtypes: float64(1), int64(2), object(1)\n",
            "memory usage: 1.6+ KB\n"
          ],
          "name": "stdout"
        }
      ]
    },
    {
      "cell_type": "code",
      "metadata": {
        "colab": {
          "base_uri": "https://localhost:8080/",
          "height": 194
        },
        "id": "9sRYs5GcwFLb",
        "outputId": "38e996c0-8eee-4bb7-87b9-8d652a42ca6d"
      },
      "source": [
        "DF.head()"
      ],
      "execution_count": 40,
      "outputs": [
        {
          "output_type": "execute_result",
          "data": {
            "text/html": [
              "<div>\n",
              "<style scoped>\n",
              "    .dataframe tbody tr th:only-of-type {\n",
              "        vertical-align: middle;\n",
              "    }\n",
              "\n",
              "    .dataframe tbody tr th {\n",
              "        vertical-align: top;\n",
              "    }\n",
              "\n",
              "    .dataframe thead th {\n",
              "        text-align: right;\n",
              "    }\n",
              "</style>\n",
              "<table border=\"1\" class=\"dataframe\">\n",
              "  <thead>\n",
              "    <tr style=\"text-align: right;\">\n",
              "      <th></th>\n",
              "      <th>Unnamed: 0</th>\n",
              "      <th>time</th>\n",
              "      <th>poison</th>\n",
              "      <th>treat</th>\n",
              "    </tr>\n",
              "  </thead>\n",
              "  <tbody>\n",
              "    <tr>\n",
              "      <th>0</th>\n",
              "      <td>1</td>\n",
              "      <td>0.31</td>\n",
              "      <td>1</td>\n",
              "      <td>A</td>\n",
              "    </tr>\n",
              "    <tr>\n",
              "      <th>1</th>\n",
              "      <td>2</td>\n",
              "      <td>0.45</td>\n",
              "      <td>1</td>\n",
              "      <td>A</td>\n",
              "    </tr>\n",
              "    <tr>\n",
              "      <th>2</th>\n",
              "      <td>3</td>\n",
              "      <td>0.46</td>\n",
              "      <td>1</td>\n",
              "      <td>A</td>\n",
              "    </tr>\n",
              "    <tr>\n",
              "      <th>3</th>\n",
              "      <td>4</td>\n",
              "      <td>0.43</td>\n",
              "      <td>1</td>\n",
              "      <td>A</td>\n",
              "    </tr>\n",
              "    <tr>\n",
              "      <th>4</th>\n",
              "      <td>5</td>\n",
              "      <td>0.36</td>\n",
              "      <td>2</td>\n",
              "      <td>A</td>\n",
              "    </tr>\n",
              "  </tbody>\n",
              "</table>\n",
              "</div>"
            ],
            "text/plain": [
              "   Unnamed: 0  time  poison treat\n",
              "0           1  0.31       1     A\n",
              "1           2  0.45       1     A\n",
              "2           3  0.46       1     A\n",
              "3           4  0.43       1     A\n",
              "4           5  0.36       2     A"
            ]
          },
          "metadata": {
            "tags": []
          },
          "execution_count": 40
        }
      ]
    },
    {
      "cell_type": "markdown",
      "metadata": {
        "id": "m-rHJSJ1wKOj"
      },
      "source": [
        "##### 3. 균형설계\r\n",
        "* 각 집단과 조건별로 표본의 수가 동일한 경우\r\n",
        "* 비균형설계의 경우 계산 방법이 달라짐\r\n",
        "\r\n",
        "##### 3-1. 독립변수 별 균형설계 확인 \r\n",
        "* 'poison' : 집단별 표본수 16으로 동일"
      ]
    },
    {
      "cell_type": "code",
      "metadata": {
        "colab": {
          "base_uri": "https://localhost:8080/",
          "height": 164
        },
        "id": "ysOvuUTKwI0-",
        "outputId": "fcf5e281-1a18-4f39-dd71-5d85c89ba11a"
      },
      "source": [
        "DF.groupby('poison').agg(len)"
      ],
      "execution_count": 41,
      "outputs": [
        {
          "output_type": "execute_result",
          "data": {
            "text/html": [
              "<div>\n",
              "<style scoped>\n",
              "    .dataframe tbody tr th:only-of-type {\n",
              "        vertical-align: middle;\n",
              "    }\n",
              "\n",
              "    .dataframe tbody tr th {\n",
              "        vertical-align: top;\n",
              "    }\n",
              "\n",
              "    .dataframe thead th {\n",
              "        text-align: right;\n",
              "    }\n",
              "</style>\n",
              "<table border=\"1\" class=\"dataframe\">\n",
              "  <thead>\n",
              "    <tr style=\"text-align: right;\">\n",
              "      <th></th>\n",
              "      <th>Unnamed: 0</th>\n",
              "      <th>time</th>\n",
              "      <th>treat</th>\n",
              "    </tr>\n",
              "    <tr>\n",
              "      <th>poison</th>\n",
              "      <th></th>\n",
              "      <th></th>\n",
              "      <th></th>\n",
              "    </tr>\n",
              "  </thead>\n",
              "  <tbody>\n",
              "    <tr>\n",
              "      <th>1</th>\n",
              "      <td>16</td>\n",
              "      <td>16.0</td>\n",
              "      <td>16</td>\n",
              "    </tr>\n",
              "    <tr>\n",
              "      <th>2</th>\n",
              "      <td>16</td>\n",
              "      <td>16.0</td>\n",
              "      <td>16</td>\n",
              "    </tr>\n",
              "    <tr>\n",
              "      <th>3</th>\n",
              "      <td>16</td>\n",
              "      <td>16.0</td>\n",
              "      <td>16</td>\n",
              "    </tr>\n",
              "  </tbody>\n",
              "</table>\n",
              "</div>"
            ],
            "text/plain": [
              "        Unnamed: 0  time  treat\n",
              "poison                         \n",
              "1               16  16.0     16\n",
              "2               16  16.0     16\n",
              "3               16  16.0     16"
            ]
          },
          "metadata": {
            "tags": []
          },
          "execution_count": 41
        }
      ]
    },
    {
      "cell_type": "markdown",
      "metadata": {
        "id": "Xt4Nw_PowT1l"
      },
      "source": [
        "* 'treat' : 집단별 표본수 12로 동일"
      ]
    },
    {
      "cell_type": "code",
      "metadata": {
        "colab": {
          "base_uri": "https://localhost:8080/",
          "height": 194
        },
        "id": "vn48rjK4wRs6",
        "outputId": "ab51bffb-eadb-43f8-89b8-1f8fddb9f6bd"
      },
      "source": [
        "DF.groupby('treat').agg(len)"
      ],
      "execution_count": 42,
      "outputs": [
        {
          "output_type": "execute_result",
          "data": {
            "text/html": [
              "<div>\n",
              "<style scoped>\n",
              "    .dataframe tbody tr th:only-of-type {\n",
              "        vertical-align: middle;\n",
              "    }\n",
              "\n",
              "    .dataframe tbody tr th {\n",
              "        vertical-align: top;\n",
              "    }\n",
              "\n",
              "    .dataframe thead th {\n",
              "        text-align: right;\n",
              "    }\n",
              "</style>\n",
              "<table border=\"1\" class=\"dataframe\">\n",
              "  <thead>\n",
              "    <tr style=\"text-align: right;\">\n",
              "      <th></th>\n",
              "      <th>Unnamed: 0</th>\n",
              "      <th>time</th>\n",
              "      <th>poison</th>\n",
              "    </tr>\n",
              "    <tr>\n",
              "      <th>treat</th>\n",
              "      <th></th>\n",
              "      <th></th>\n",
              "      <th></th>\n",
              "    </tr>\n",
              "  </thead>\n",
              "  <tbody>\n",
              "    <tr>\n",
              "      <th>A</th>\n",
              "      <td>12</td>\n",
              "      <td>12.0</td>\n",
              "      <td>12</td>\n",
              "    </tr>\n",
              "    <tr>\n",
              "      <th>B</th>\n",
              "      <td>12</td>\n",
              "      <td>12.0</td>\n",
              "      <td>12</td>\n",
              "    </tr>\n",
              "    <tr>\n",
              "      <th>C</th>\n",
              "      <td>12</td>\n",
              "      <td>12.0</td>\n",
              "      <td>12</td>\n",
              "    </tr>\n",
              "    <tr>\n",
              "      <th>D</th>\n",
              "      <td>12</td>\n",
              "      <td>12.0</td>\n",
              "      <td>12</td>\n",
              "    </tr>\n",
              "  </tbody>\n",
              "</table>\n",
              "</div>"
            ],
            "text/plain": [
              "       Unnamed: 0  time  poison\n",
              "treat                          \n",
              "A              12  12.0      12\n",
              "B              12  12.0      12\n",
              "C              12  12.0      12\n",
              "D              12  12.0      12"
            ]
          },
          "metadata": {
            "tags": []
          },
          "execution_count": 42
        }
      ]
    },
    {
      "cell_type": "markdown",
      "metadata": {
        "id": "3BjVaI9CwWtq"
      },
      "source": [
        "* 'poison', 'treat' : 집단별 표본수 4로 동일"
      ]
    },
    {
      "cell_type": "code",
      "metadata": {
        "colab": {
          "base_uri": "https://localhost:8080/",
          "height": 428
        },
        "id": "k398IX37wVaB",
        "outputId": "80ecdf5f-f5e9-4de5-e267-205597aad776"
      },
      "source": [
        "DF.groupby(['poison', 'treat']).agg(len)"
      ],
      "execution_count": 43,
      "outputs": [
        {
          "output_type": "execute_result",
          "data": {
            "text/html": [
              "<div>\n",
              "<style scoped>\n",
              "    .dataframe tbody tr th:only-of-type {\n",
              "        vertical-align: middle;\n",
              "    }\n",
              "\n",
              "    .dataframe tbody tr th {\n",
              "        vertical-align: top;\n",
              "    }\n",
              "\n",
              "    .dataframe thead th {\n",
              "        text-align: right;\n",
              "    }\n",
              "</style>\n",
              "<table border=\"1\" class=\"dataframe\">\n",
              "  <thead>\n",
              "    <tr style=\"text-align: right;\">\n",
              "      <th></th>\n",
              "      <th></th>\n",
              "      <th>Unnamed: 0</th>\n",
              "      <th>time</th>\n",
              "    </tr>\n",
              "    <tr>\n",
              "      <th>poison</th>\n",
              "      <th>treat</th>\n",
              "      <th></th>\n",
              "      <th></th>\n",
              "    </tr>\n",
              "  </thead>\n",
              "  <tbody>\n",
              "    <tr>\n",
              "      <th rowspan=\"4\" valign=\"top\">1</th>\n",
              "      <th>A</th>\n",
              "      <td>4</td>\n",
              "      <td>4.0</td>\n",
              "    </tr>\n",
              "    <tr>\n",
              "      <th>B</th>\n",
              "      <td>4</td>\n",
              "      <td>4.0</td>\n",
              "    </tr>\n",
              "    <tr>\n",
              "      <th>C</th>\n",
              "      <td>4</td>\n",
              "      <td>4.0</td>\n",
              "    </tr>\n",
              "    <tr>\n",
              "      <th>D</th>\n",
              "      <td>4</td>\n",
              "      <td>4.0</td>\n",
              "    </tr>\n",
              "    <tr>\n",
              "      <th rowspan=\"4\" valign=\"top\">2</th>\n",
              "      <th>A</th>\n",
              "      <td>4</td>\n",
              "      <td>4.0</td>\n",
              "    </tr>\n",
              "    <tr>\n",
              "      <th>B</th>\n",
              "      <td>4</td>\n",
              "      <td>4.0</td>\n",
              "    </tr>\n",
              "    <tr>\n",
              "      <th>C</th>\n",
              "      <td>4</td>\n",
              "      <td>4.0</td>\n",
              "    </tr>\n",
              "    <tr>\n",
              "      <th>D</th>\n",
              "      <td>4</td>\n",
              "      <td>4.0</td>\n",
              "    </tr>\n",
              "    <tr>\n",
              "      <th rowspan=\"4\" valign=\"top\">3</th>\n",
              "      <th>A</th>\n",
              "      <td>4</td>\n",
              "      <td>4.0</td>\n",
              "    </tr>\n",
              "    <tr>\n",
              "      <th>B</th>\n",
              "      <td>4</td>\n",
              "      <td>4.0</td>\n",
              "    </tr>\n",
              "    <tr>\n",
              "      <th>C</th>\n",
              "      <td>4</td>\n",
              "      <td>4.0</td>\n",
              "    </tr>\n",
              "    <tr>\n",
              "      <th>D</th>\n",
              "      <td>4</td>\n",
              "      <td>4.0</td>\n",
              "    </tr>\n",
              "  </tbody>\n",
              "</table>\n",
              "</div>"
            ],
            "text/plain": [
              "              Unnamed: 0  time\n",
              "poison treat                  \n",
              "1      A               4   4.0\n",
              "       B               4   4.0\n",
              "       C               4   4.0\n",
              "       D               4   4.0\n",
              "2      A               4   4.0\n",
              "       B               4   4.0\n",
              "       C               4   4.0\n",
              "       D               4   4.0\n",
              "3      A               4   4.0\n",
              "       B               4   4.0\n",
              "       C               4   4.0\n",
              "       D               4   4.0"
            ]
          },
          "metadata": {
            "tags": []
          },
          "execution_count": 43
        }
      ]
    },
    {
      "cell_type": "markdown",
      "metadata": {
        "id": "sT9C78oJwaCh"
      },
      "source": [
        "##### 4. 이원분산분석 \r\n",
        "* 'poison' : p < 0.05로 유의미. 즉 poison의 수준에 따라 평균에 차이가 난다고 볼 수 있음\r\n",
        "\r\n",
        "* 'treat' : p < 0.05로 유의미. 즉 treat의 수준에 따라 평균에 차이가 난다고 볼 수 있음  \r\n",
        "* 'poison:treat' : p > 0.05로 유의미하지 않음. 상호작용 효과는 발견하지 못함"
      ]
    },
    {
      "cell_type": "code",
      "metadata": {
        "colab": {
          "base_uri": "https://localhost:8080/",
          "height": 164
        },
        "id": "kFF8SMCCwYT5",
        "outputId": "a032061e-52ca-4b1f-fccc-f6cfb2946960"
      },
      "source": [
        "from statsmodels.formula.api import ols \r\n",
        "from statsmodels.stats.anova import anova_lm\r\n",
        "\r\n",
        "TWA = ols('time ~ C(poison) * C(treat)', DF).fit() \r\n",
        "\r\n",
        "anova_lm(TWA)"
      ],
      "execution_count": 44,
      "outputs": [
        {
          "output_type": "execute_result",
          "data": {
            "text/html": [
              "<div>\n",
              "<style scoped>\n",
              "    .dataframe tbody tr th:only-of-type {\n",
              "        vertical-align: middle;\n",
              "    }\n",
              "\n",
              "    .dataframe tbody tr th {\n",
              "        vertical-align: top;\n",
              "    }\n",
              "\n",
              "    .dataframe thead th {\n",
              "        text-align: right;\n",
              "    }\n",
              "</style>\n",
              "<table border=\"1\" class=\"dataframe\">\n",
              "  <thead>\n",
              "    <tr style=\"text-align: right;\">\n",
              "      <th></th>\n",
              "      <th>df</th>\n",
              "      <th>sum_sq</th>\n",
              "      <th>mean_sq</th>\n",
              "      <th>F</th>\n",
              "      <th>PR(&gt;F)</th>\n",
              "    </tr>\n",
              "  </thead>\n",
              "  <tbody>\n",
              "    <tr>\n",
              "      <th>C(poison)</th>\n",
              "      <td>2.0</td>\n",
              "      <td>1.033012</td>\n",
              "      <td>0.516506</td>\n",
              "      <td>23.221737</td>\n",
              "      <td>3.331440e-07</td>\n",
              "    </tr>\n",
              "    <tr>\n",
              "      <th>C(treat)</th>\n",
              "      <td>3.0</td>\n",
              "      <td>0.921206</td>\n",
              "      <td>0.307069</td>\n",
              "      <td>13.805582</td>\n",
              "      <td>3.777331e-06</td>\n",
              "    </tr>\n",
              "    <tr>\n",
              "      <th>C(poison):C(treat)</th>\n",
              "      <td>6.0</td>\n",
              "      <td>0.250137</td>\n",
              "      <td>0.041690</td>\n",
              "      <td>1.874333</td>\n",
              "      <td>1.122506e-01</td>\n",
              "    </tr>\n",
              "    <tr>\n",
              "      <th>Residual</th>\n",
              "      <td>36.0</td>\n",
              "      <td>0.800725</td>\n",
              "      <td>0.022242</td>\n",
              "      <td>NaN</td>\n",
              "      <td>NaN</td>\n",
              "    </tr>\n",
              "  </tbody>\n",
              "</table>\n",
              "</div>"
            ],
            "text/plain": [
              "                      df    sum_sq   mean_sq          F        PR(>F)\n",
              "C(poison)            2.0  1.033012  0.516506  23.221737  3.331440e-07\n",
              "C(treat)             3.0  0.921206  0.307069  13.805582  3.777331e-06\n",
              "C(poison):C(treat)   6.0  0.250137  0.041690   1.874333  1.122506e-01\n",
              "Residual            36.0  0.800725  0.022242        NaN           NaN"
            ]
          },
          "metadata": {
            "tags": []
          },
          "execution_count": 44
        }
      ]
    },
    {
      "cell_type": "markdown",
      "metadata": {
        "id": "9F0SB2n5wmbR"
      },
      "source": [
        "### 5. 비균형설계\r\n",
        "* anova_lm(TWA, typ = 3) \r\n",
        "  * 'typ = 3' 옵션 추가\r\n",
        "### 6. 이원분산분석 결과 해석\r\n",
        "* 'time'에 대한 'poison'과 'treat'을 요인으로 하는 이원분산분석 실시 결과, \r\n",
        "  * 'poison'의 주효과 유의(p < 0.05),\r\n",
        "  * 'treat'의 주효과 유의(p < 0.05), \r\n",
        "  * 'poison'과 'treat'의 유의미한 상호작용효과는 발견할 수 없음(p > 0.05).\r\n",
        "* 만약 상호작용효과가 유의미하다면, \r\n",
        "  * 'poison' 1, 2, 3 집단별 'treat'의 단순효과분석 수행\r\n",
        "## 3. Chi-Squared Test\r\n",
        "* 독립성 검정 \r\n",
        "* 관찰된 빈도가 기대된 빈도와 의미있게 다른지 여부를 검증 \r\n",
        "* 명목척도 자료의 분석에 사용\r\n",
        "\r\n",
        "#### 1. Hypothesis\r\n",
        "* 귀무가설 : '가사노동의 종류'(행)와 '수행하는 사람'(열)은 독립이다. \r\n",
        "* 대립가설 : '가사노동의 종류'(행)와 '수행하는 사람'(열)은 독립이 아니다.\r\n",
        "#### 2. Load Data"
      ]
    },
    {
      "cell_type": "code",
      "metadata": {
        "colab": {
          "base_uri": "https://localhost:8080/"
        },
        "id": "5FMwmTjnwklg",
        "outputId": "1a611e22-8022-4d84-8d5d-9b3eb3a8ac0d"
      },
      "source": [
        "url = 'https://raw.githubusercontent.com/rusita-ai/pyData/master/housetasks.csv' \r\n",
        "DF = pd.read_csv(url,\r\n",
        "                index_col = 0) \r\n",
        "\r\n",
        "DF.info()"
      ],
      "execution_count": 45,
      "outputs": [
        {
          "output_type": "stream",
          "text": [
            "<class 'pandas.core.frame.DataFrame'>\n",
            "Index: 13 entries, Laundry to Holidays\n",
            "Data columns (total 4 columns):\n",
            " #   Column       Non-Null Count  Dtype\n",
            "---  ------       --------------  -----\n",
            " 0   Wife         13 non-null     int64\n",
            " 1   Alternating  13 non-null     int64\n",
            " 2   Husband      13 non-null     int64\n",
            " 3   Jointly      13 non-null     int64\n",
            "dtypes: int64(4)\n",
            "memory usage: 520.0+ bytes\n"
          ],
          "name": "stdout"
        }
      ]
    },
    {
      "cell_type": "markdown",
      "metadata": {
        "id": "5yTL8MaOxOID"
      },
      "source": [
        "* 행 : 가사노동의 종류 \r\n",
        "* 열 : 수행하는 사람"
      ]
    },
    {
      "cell_type": "code",
      "metadata": {
        "colab": {
          "base_uri": "https://localhost:8080/",
          "height": 194
        },
        "id": "XcFASxHpxM9A",
        "outputId": "5a4bcc71-953a-4fdd-9ef0-97f113ef5185"
      },
      "source": [
        "DF.head()"
      ],
      "execution_count": 46,
      "outputs": [
        {
          "output_type": "execute_result",
          "data": {
            "text/html": [
              "<div>\n",
              "<style scoped>\n",
              "    .dataframe tbody tr th:only-of-type {\n",
              "        vertical-align: middle;\n",
              "    }\n",
              "\n",
              "    .dataframe tbody tr th {\n",
              "        vertical-align: top;\n",
              "    }\n",
              "\n",
              "    .dataframe thead th {\n",
              "        text-align: right;\n",
              "    }\n",
              "</style>\n",
              "<table border=\"1\" class=\"dataframe\">\n",
              "  <thead>\n",
              "    <tr style=\"text-align: right;\">\n",
              "      <th></th>\n",
              "      <th>Wife</th>\n",
              "      <th>Alternating</th>\n",
              "      <th>Husband</th>\n",
              "      <th>Jointly</th>\n",
              "    </tr>\n",
              "  </thead>\n",
              "  <tbody>\n",
              "    <tr>\n",
              "      <th>Laundry</th>\n",
              "      <td>156</td>\n",
              "      <td>14</td>\n",
              "      <td>2</td>\n",
              "      <td>4</td>\n",
              "    </tr>\n",
              "    <tr>\n",
              "      <th>Main_meal</th>\n",
              "      <td>124</td>\n",
              "      <td>20</td>\n",
              "      <td>5</td>\n",
              "      <td>4</td>\n",
              "    </tr>\n",
              "    <tr>\n",
              "      <th>Dinner</th>\n",
              "      <td>77</td>\n",
              "      <td>11</td>\n",
              "      <td>7</td>\n",
              "      <td>13</td>\n",
              "    </tr>\n",
              "    <tr>\n",
              "      <th>Breakfeast</th>\n",
              "      <td>82</td>\n",
              "      <td>36</td>\n",
              "      <td>15</td>\n",
              "      <td>7</td>\n",
              "    </tr>\n",
              "    <tr>\n",
              "      <th>Tidying</th>\n",
              "      <td>53</td>\n",
              "      <td>11</td>\n",
              "      <td>1</td>\n",
              "      <td>57</td>\n",
              "    </tr>\n",
              "  </tbody>\n",
              "</table>\n",
              "</div>"
            ],
            "text/plain": [
              "            Wife  Alternating  Husband  Jointly\n",
              "Laundry      156           14        2        4\n",
              "Main_meal    124           20        5        4\n",
              "Dinner        77           11        7       13\n",
              "Breakfeast    82           36       15        7\n",
              "Tidying       53           11        1       57"
            ]
          },
          "metadata": {
            "tags": []
          },
          "execution_count": 46
        }
      ]
    },
    {
      "cell_type": "markdown",
      "metadata": {
        "id": "4_U8A6JKxRtT"
      },
      "source": [
        "#### 3. 카이제곱검증"
      ]
    },
    {
      "cell_type": "code",
      "metadata": {
        "id": "YjZ5glKTxQZ6"
      },
      "source": [
        "import scipy.stats \r\n",
        "\r\n",
        "chi2, pvalue, dof, expected = scipy.stats.chi2_contingency(DF)"
      ],
      "execution_count": 47,
      "outputs": []
    },
    {
      "cell_type": "markdown",
      "metadata": {
        "id": "J17ykBkrxVmA"
      },
      "source": [
        "#### 3-1. chi-square 검정통계량"
      ]
    },
    {
      "cell_type": "code",
      "metadata": {
        "colab": {
          "base_uri": "https://localhost:8080/"
        },
        "id": "5cyfYGFSxVAy",
        "outputId": "9b6bf87d-2a52-41a2-b8fc-d016673c8798"
      },
      "source": [
        "chi2"
      ],
      "execution_count": 48,
      "outputs": [
        {
          "output_type": "execute_result",
          "data": {
            "text/plain": [
              "1944.4561959955277"
            ]
          },
          "metadata": {
            "tags": []
          },
          "execution_count": 48
        }
      ]
    },
    {
      "cell_type": "markdown",
      "metadata": {
        "id": "PWN5ZIMmxa6l"
      },
      "source": [
        "#### 3-2. 자유도"
      ]
    },
    {
      "cell_type": "code",
      "metadata": {
        "colab": {
          "base_uri": "https://localhost:8080/"
        },
        "id": "jF5TgFo-xaNf",
        "outputId": "e5560378-95bb-474e-db21-cc42d20282ad"
      },
      "source": [
        "dof"
      ],
      "execution_count": 49,
      "outputs": [
        {
          "output_type": "execute_result",
          "data": {
            "text/plain": [
              "36"
            ]
          },
          "metadata": {
            "tags": []
          },
          "execution_count": 49
        }
      ]
    },
    {
      "cell_type": "markdown",
      "metadata": {
        "id": "aAmT-qNaxexe"
      },
      "source": [
        "#### 3-3. p-value"
      ]
    },
    {
      "cell_type": "code",
      "metadata": {
        "colab": {
          "base_uri": "https://localhost:8080/"
        },
        "id": "48pFHPVvxdZN",
        "outputId": "3efa2725-4b66-48c9-a30a-995e04697087"
      },
      "source": [
        "pvalue"
      ],
      "execution_count": 50,
      "outputs": [
        {
          "output_type": "execute_result",
          "data": {
            "text/plain": [
              "0.0"
            ]
          },
          "metadata": {
            "tags": []
          },
          "execution_count": 50
        }
      ]
    },
    {
      "cell_type": "markdown",
      "metadata": {
        "id": "LnrW_Ps8xjy2"
      },
      "source": [
        "#### 4. 카이제곱검증 결과 해석\r\n",
        "* p < 0.05이므로, '가사노동의 종류'(행)와 '수행하는 사람'(열)은 독립이 아니다."
      ]
    }
  ]
}